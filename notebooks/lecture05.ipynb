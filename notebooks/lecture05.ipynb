{
 "cells": [
  {
   "cell_type": "markdown",
   "id": "c6fe2735",
   "metadata": {},
   "source": [
    "Virtual Acoustics and Immersive Audio Workshop - CCRMA Stanford University  \n",
    "25.07.25 - Orchisama Das, Gloria Dal Santo\n",
    "  \n",
    "### L05: Modeling Acoustics in Coupled Spaces\n",
    "\n",
    "In this assignment we will \n",
    "- Analyize the EDC of a couple room space \n",
    "- Given a set of common slope parameters, synthesize the EDC and compare it with the one measured "
   ]
  },
  {
   "cell_type": "code",
   "execution_count": null,
   "id": "8bdfe389",
   "metadata": {},
   "outputs": [],
   "source": [
    "# --- Imports ---\n",
    "import pickle\n",
    "import numpy as np\n",
    "from pathlib import Path\n",
    "import matplotlib.pyplot as plt\n",
    "from room_acoustics.analysis import compute_edc\n",
    "from room_acoustics.synthesis import decay_kernel\n",
    "from utils import filterbank"
   ]
  },
  {
   "cell_type": "markdown",
   "id": "e8ffe7bf",
   "metadata": {},
   "source": [
    "#### 1. Load the SRIR and plot the EDC \n",
    "\n",
    "The srirs are stored in `srirs_sampled.pkl` as a dictionary. You can use `srir_set.keys()` to list all the fields it contains. "
   ]
  },
  {
   "cell_type": "code",
   "execution_count": null,
   "id": "6f9f2a55",
   "metadata": {},
   "outputs": [],
   "source": [
    "# --- Load the SRIRs and plot their EDC ---\n",
    "\n",
    "output_filepath = Path('..') / 'data' / 'srirs_sampled.pkl'\n",
    "with open(output_filepath, 'rb') as f:\n",
    "    srir_set = pickle.load(f)\n",
    "\n",
    "srirs = srir_set['srirs']\n",
    "fs = srir_set['fs'].item()\n",
    "n_srirs = srirs.shape[0]\n",
    "ir_len = srirs.shape[1]\n",
    "f_bands = [63, 125, 250, 500, 1000, 2000, 4000, 8000]\n",
    "\n",
    "plt.figure(figsize=(10, 4))\n",
    "for idx in range(n_srirs):\n",
    "    rir = srirs[idx, :]\n",
    "    edc_curve = compute_edc(rir)\n",
    "    time = np.arange(len(edc_curve)) / fs\n",
    "    plt.plot(time, edc_curve, label=f'SRIR {idx+1}')\n",
    "\n",
    "plt.xlabel('Time (s)')\n",
    "plt.ylabel('Amplitude')\n",
    "plt.xlim(0, time[-1])\n",
    "plt.ylim(-70, 5)\n",
    "plt.grid(True)\n",
    "plt.legend()\n",
    "plt.title('Energy Decay Curves (EDC) for All SRIRs')\n",
    "plt.show()"
   ]
  },
  {
   "cell_type": "markdown",
   "id": "8742b8d0",
   "metadata": {},
   "source": [
    "#### 2. Synthesize the EDC from the Common Slopes Parameters\n",
    "\n",
    "- 2.1 Head to `room_acoustics.synthesis`, you will find a partially coded function `decay_kernel` which will generate an exponential envelope decaying at the specified reverberation time. \n",
    "- 2.2 Multiply the decay envelopes by their respective amplitudes\n",
    "- 2.3 Plot the individual scaled slopes and the summed ones (i.e. the synthesized EDCs). "
   ]
  },
  {
   "cell_type": "code",
   "execution_count": null,
   "id": "b1da8767",
   "metadata": {},
   "outputs": [],
   "source": [
    "indx = 2\n",
    "\n",
    "time_axis = np.arange(0, ir_len) / fs\n",
    "envelope_decay = decay_kernel (np.squeeze(srir_set['common_decay_times']), \n",
    "                               time_axis, \n",
    "                               fs, \n",
    "                               normalize_envelope=False, \n",
    "                               add_noise=False)\n",
    "#### WRITE YOUR CODE HERE ####\n",
    "# multiply the amplitudes of the SRIRs with the envelope decay to synthesize the EDC\n",
    "# NOTE: the amplitudes are stored in the 'amplitudes' key of the srir_set dictionary. You have to access it via srir_set['amplitudes']\n",
    "\n",
    "n_bands = len(f_bands)\n",
    "plt.figure(figsize=(15, 10))\n",
    "error = []\n",
    "for i in range(n_bands):\n",
    "    plt.subplot(2, 4, i+1)\n",
    "    plt.plot(time_axis, 10*np.log10(edc[i, :, 0]), label='1st slope')\n",
    "    plt.plot(time_axis, 10*np.log10(edc[i, :, 1]), label='2nd slope')\n",
    "    plt.plot(time_axis, 10*np.log10(edc[i, :, 2]), label='3rd slope')\n",
    "    plt.plot(time_axis, 10*np.log10(np.sum(edc[i, :, :], axis=-1)), label='EDC')\n",
    "    plt.xlabel('Time (s)')\n",
    "    plt.ylabel('Energy Decay')\n",
    "    plt.legend()\n",
    "    plt.title(f'EDC at {f_bands[i]} Hz')\n",
    "    plt.ylim([-200, 7])\n",
    "    plt.xlim([0, 2])\n",
    "    plt.grid(True)\n",
    "\n",
    "plt.tight_layout()\n",
    "plt.show()"
   ]
  },
  {
   "cell_type": "markdown",
   "id": "2ec8416d",
   "metadata": {},
   "source": [
    "#### 3. Compare the EDC with the ground truth\n",
    "\n",
    "- 3.1 Compute the EDC from the ground truth (GT) SRIR (accessable at `srir_set['srirs']`)\n",
    "- 3.2 Plot the GT EDC and the synthesized ones after normalizing them so that they start at 0 dB at time 0"
   ]
  },
  {
   "cell_type": "code",
   "execution_count": null,
   "id": "ad69f031",
   "metadata": {},
   "outputs": [],
   "source": [
    "# --- Compare the EDC with the ground truth ---\n",
    "\n",
    "#### WRITE YOUR CODE HERE ####\n",
    "# Select the SRIRs to compare (you have 8 SRIRs in total, access to one of them is given by `srirs[indx]`)\n",
    "# Filter the SRIR with a filterbank\n",
    "\n",
    "# plot the EDCs of the SRIRs and the synthesized EDCs\n",
    "plt.figure(figsize=(15, 10))\n",
    "for i in range(n_bands):\n",
    "    plt.subplot(2, 4, i+1)\n",
    "    # filter the SRIRs \n",
    "\n",
    "    ### WRITE YOUR CODE HERE ####\n",
    "    # compute the ground truth EDC for the SRIRs\n",
    "    # plot the ground truth EDC and the synthesized EDC (in dB)\n",
    "\n",
    "    plt.xlabel('Time (s)')\n",
    "    plt.ylabel('Energy Decay (dB)')\n",
    "    plt.xlim(0, time_axis[-1])\n",
    "    plt.ylim(-100, 5)\n",
    "    plt.grid(True)\n",
    "    plt.legend()\n",
    "plt.suptitle('Comparison of Synthesized and Ground Truth EDCs')\n",
    "plt.show()"
   ]
  }
 ],
 "metadata": {
  "kernelspec": {
   "display_name": ".venv (3.10.15)",
   "language": "python",
   "name": "python3"
  },
  "language_info": {
   "codemirror_mode": {
    "name": "ipython",
    "version": 3
   },
   "file_extension": ".py",
   "mimetype": "text/x-python",
   "name": "python",
   "nbconvert_exporter": "python",
   "pygments_lexer": "ipython3",
   "version": "3.10.15"
  }
 },
 "nbformat": 4,
 "nbformat_minor": 5
}
